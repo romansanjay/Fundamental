{
  "nbformat": 4,
  "nbformat_minor": 0,
  "metadata": {
    "colab": {
      "provenance": [],
      "authorship_tag": "ABX9TyO7MHOLEWsyjD1Oix2wa5g5",
      "include_colab_link": true
    },
    "kernelspec": {
      "name": "python3",
      "display_name": "Python 3"
    },
    "language_info": {
      "name": "python"
    }
  },
  "cells": [
    {
      "cell_type": "markdown",
      "metadata": {
        "id": "view-in-github",
        "colab_type": "text"
      },
      "source": [
        "<a href=\"https://colab.research.google.com/github/romansanjay/Fundamental/blob/main/Hand_Written_Digit_Prediction.ipynb\" target=\"_parent\"><img src=\"https://colab.research.google.com/assets/colab-badge.svg\" alt=\"Open In Colab\"/></a>"
      ]
    },
    {
      "cell_type": "markdown",
      "source": [
        "Hand Written Digit Prediction-Classification Analysis\n",
        "\n",
        "\n",
        "\n",
        "1. the digit dataset consists of 8*8 pixel images of digits.The images attributtes of the dataset stores 8*8 arrays of grayscale values of each image.We will use these array to visulize the first 4 images.The target attribute of the data stores the digit each image represents\n",
        "\n",
        "\n"
      ],
      "metadata": {
        "id": "dn6qwqqIzhiJ"
      }
    },
    {
      "cell_type": "markdown",
      "source": [
        "Import Library"
      ],
      "metadata": {
        "id": "txSKnAcs0zq8"
      }
    },
    {
      "cell_type": "code",
      "source": [
        "import pandas as pd"
      ],
      "metadata": {
        "id": "3iSUTdPu04bA"
      },
      "execution_count": null,
      "outputs": []
    },
    {
      "cell_type": "code",
      "source": [
        "import numpy as np"
      ],
      "metadata": {
        "id": "Ch9neU2m0-iS"
      },
      "execution_count": null,
      "outputs": []
    },
    {
      "cell_type": "code",
      "source": [
        "import matplotlib.pyplot as plt"
      ],
      "metadata": {
        "id": "WZBf3FUr1DYJ"
      },
      "execution_count": null,
      "outputs": []
    },
    {
      "cell_type": "markdown",
      "source": [
        "Import Data"
      ],
      "metadata": {
        "id": "TT1u6RnT1Km5"
      }
    },
    {
      "cell_type": "code",
      "source": [
        "from sklearn.datasets import load_digits"
      ],
      "metadata": {
        "id": "vOamDMwq1NiC"
      },
      "execution_count": null,
      "outputs": []
    },
    {
      "cell_type": "code",
      "source": [
        "df=load_digits()"
      ],
      "metadata": {
        "id": "YETt-qUK1YF2"
      },
      "execution_count": null,
      "outputs": []
    },
    {
      "cell_type": "code",
      "source": [
        "_, axes=plt.subplots(nrows=1,ncols=4,figsize=(10,3))\n",
        "for anext, (image,label) in zip(axes,zip(df.images,df.target)):\n",
        "  anext.set_axis_off()\n",
        "  anext.imshow(image,cmap=plt.cm.gray_r,interpolation='nearest')\n",
        "  anext.set_title('Training:%i'%label)"
      ],
      "metadata": {
        "colab": {
          "base_uri": "https://localhost:8080/",
          "height": 227
        },
        "id": "VIjkgKp01jeI",
        "outputId": "3aa19c6b-a353-4fe1-fcba-2a47fed45124"
      },
      "execution_count": null,
      "outputs": [
        {
          "output_type": "display_data",
          "data": {
            "text/plain": [
              "<Figure size 1000x300 with 4 Axes>"
            ],
            "image/png": "[encoded data removed]"
          },
          "metadata": {}
        }
      ]
    },
    {
      "cell_type": "markdown",
      "source": [
        "Data Preprocessing\n",
        "\n",
        "\n",
        "1.Flatten image\n",
        "\n",
        "![download.jfif](data:image/jpeg;base64,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)\n",
        "\n",
        "\n"
      ],
      "metadata": {
        "id": "-NDHwGr83hYR"
      }
    },
    {
      "cell_type": "code",
      "source": [
        "df.images.shape"
      ],
      "metadata": {
        "colab": {
          "base_uri": "https://localhost:8080/"
        },
        "id": "16f5NvOL4_i5",
        "outputId": "a1f97592-4bef-48a3-d7cc-aa68ee3e38bb"
      },
      "execution_count": null,
      "outputs": [
        {
          "output_type": "execute_result",
          "data": {
            "text/plain": [
              "(1797, 8, 8)"
            ]
          },
          "metadata": {},
          "execution_count": 8
        }
      ]
    },
    {
      "cell_type": "code",
      "source": [
        "df.images[0]"
      ],
      "metadata": {
        "colab": {
          "base_uri": "https://localhost:8080/"
        },
        "id": "BBhwB8NQ8lqK",
        "outputId": "f21772a6-1fcc-497e-b429-dcbed344bf9a"
      },
      "execution_count": null,
      "outputs": [
        {
          "output_type": "execute_result",
          "data": {
            "text/plain": [
              "array([[ 0.,  0.,  5., 13.,  9.,  1.,  0.,  0.],\n",
              "       [ 0.,  0., 13., 15., 10., 15.,  5.,  0.],\n",
              "       [ 0.,  3., 15.,  2.,  0., 11.,  8.,  0.],\n",
              "       [ 0.,  4., 12.,  0.,  0.,  8.,  8.,  0.],\n",
              "       [ 0.,  5.,  8.,  0.,  0.,  9.,  8.,  0.],\n",
              "       [ 0.,  4., 11.,  0.,  1., 12.,  7.,  0.],\n",
              "       [ 0.,  2., 14.,  5., 10., 12.,  0.,  0.],\n",
              "       [ 0.,  0.,  6., 13., 10.,  0.,  0.,  0.]])"
            ]
          },
          "metadata": {},
          "execution_count": 11
        }
      ]
    },
    {
      "cell_type": "code",
      "source": [
        "df.images[0].shape"
      ],
      "metadata": {
        "colab": {
          "base_uri": "https://localhost:8080/"
        },
        "id": "X4Bo2Twl9ISw",
        "outputId": "3934c9d8-4856-4248-c9d2-361224fd29e4"
      },
      "execution_count": null,
      "outputs": [
        {
          "output_type": "execute_result",
          "data": {
            "text/plain": [
              "(8, 8)"
            ]
          },
          "metadata": {},
          "execution_count": 12
        }
      ]
    },
    {
      "cell_type": "code",
      "source": [
        "len(df.images)"
      ],
      "metadata": {
        "colab": {
          "base_uri": "https://localhost:8080/"
        },
        "id": "mqe7Z7YB9Otb",
        "outputId": "e3dccef3-caa1-43d7-ced2-c06db2a669cd"
      },
      "execution_count": null,
      "outputs": [
        {
          "output_type": "execute_result",
          "data": {
            "text/plain": [
              "1797"
            ]
          },
          "metadata": {},
          "execution_count": 13
        }
      ]
    },
    {
      "cell_type": "code",
      "source": [
        "n_sample =len(df.images)\n",
        "data = df.images.reshape((n_sample,-1))"
      ],
      "metadata": {
        "id": "4kxtCev09Ts4"
      },
      "execution_count": null,
      "outputs": []
    },
    {
      "cell_type": "code",
      "source": [
        "data[0]"
      ],
      "metadata": {
        "colab": {
          "base_uri": "https://localhost:8080/"
        },
        "id": "-x-8NnId9i55",
        "outputId": "3c9fca38-ef9e-4be9-ecfa-ecac26b61ce2"
      },
      "execution_count": null,
      "outputs": [
        {
          "output_type": "execute_result",
          "data": {
            "text/plain": [
              "array([ 0.,  0.,  5., 13.,  9.,  1.,  0.,  0.,  0.,  0., 13., 15., 10.,\n",
              "       15.,  5.,  0.,  0.,  3., 15.,  2.,  0., 11.,  8.,  0.,  0.,  4.,\n",
              "       12.,  0.,  0.,  8.,  8.,  0.,  0.,  5.,  8.,  0.,  0.,  9.,  8.,\n",
              "        0.,  0.,  4., 11.,  0.,  1., 12.,  7.,  0.,  0.,  2., 14.,  5.,\n",
              "       10., 12.,  0.,  0.,  0.,  0.,  6., 13., 10.,  0.,  0.,  0.])"
            ]
          },
          "metadata": {},
          "execution_count": 15
        }
      ]
    },
    {
      "cell_type": "code",
      "source": [
        "data[0].shape"
      ],
      "metadata": {
        "colab": {
          "base_uri": "https://localhost:8080/"
        },
        "id": "AjFUs7l59nVM",
        "outputId": "51ad0ea8-750e-41dc-c660-b8347440cf39"
      },
      "execution_count": null,
      "outputs": [
        {
          "output_type": "execute_result",
          "data": {
            "text/plain": [
              "(64,)"
            ]
          },
          "metadata": {},
          "execution_count": 16
        }
      ]
    },
    {
      "cell_type": "code",
      "source": [
        "data.shape"
      ],
      "metadata": {
        "colab": {
          "base_uri": "https://localhost:8080/"
        },
        "id": "OjVqcYVn9tE6",
        "outputId": "120c1955-cd5d-4aab-82c4-108965f542a3"
      },
      "execution_count": null,
      "outputs": [
        {
          "output_type": "execute_result",
          "data": {
            "text/plain": [
              "(1797, 64)"
            ]
          },
          "metadata": {},
          "execution_count": 17
        }
      ]
    },
    {
      "cell_type": "markdown",
      "source": [
        "Scaling Image Data"
      ],
      "metadata": {
        "id": "2YJldU2l9zV4"
      }
    },
    {
      "cell_type": "code",
      "source": [
        "data.min()"
      ],
      "metadata": {
        "colab": {
          "base_uri": "https://localhost:8080/"
        },
        "id": "0In7ZAqo94cT",
        "outputId": "44f1364e-cbcb-4c65-bbcf-b432c7d68849"
      },
      "execution_count": null,
      "outputs": [
        {
          "output_type": "execute_result",
          "data": {
            "text/plain": [
              "0.0"
            ]
          },
          "metadata": {},
          "execution_count": 18
        }
      ]
    },
    {
      "cell_type": "code",
      "source": [
        "data.max()"
      ],
      "metadata": {
        "colab": {
          "base_uri": "https://localhost:8080/"
        },
        "id": "j_0Uf5eV99MV",
        "outputId": "a32ea881-f6a3-4da6-9ecb-5378eb244ebb"
      },
      "execution_count": null,
      "outputs": [
        {
          "output_type": "execute_result",
          "data": {
            "text/plain": [
              "16.0"
            ]
          },
          "metadata": {},
          "execution_count": 19
        }
      ]
    },
    {
      "cell_type": "code",
      "source": [
        "data = data/16"
      ],
      "metadata": {
        "id": "8zRbDboM-BL9"
      },
      "execution_count": null,
      "outputs": []
    },
    {
      "cell_type": "code",
      "source": [
        "data.min()"
      ],
      "metadata": {
        "colab": {
          "base_uri": "https://localhost:8080/"
        },
        "id": "XhfP6n8c-H5i",
        "outputId": "07fea3f7-e6e2-4291-e1d1-2a055cb85394"
      },
      "execution_count": null,
      "outputs": [
        {
          "output_type": "execute_result",
          "data": {
            "text/plain": [
              "0.0"
            ]
          },
          "metadata": {},
          "execution_count": 21
        }
      ]
    },
    {
      "cell_type": "code",
      "source": [
        "data.max()"
      ],
      "metadata": {
        "colab": {
          "base_uri": "https://localhost:8080/"
        },
        "id": "IRS3D-IY-NrD",
        "outputId": "2beda84b-21e0-4291-8464-e69dcc7388b2"
      },
      "execution_count": null,
      "outputs": [
        {
          "output_type": "execute_result",
          "data": {
            "text/plain": [
              "1.0"
            ]
          },
          "metadata": {},
          "execution_count": 22
        }
      ]
    },
    {
      "cell_type": "code",
      "source": [
        "data[0]"
      ],
      "metadata": {
        "colab": {
          "base_uri": "https://localhost:8080/"
        },
        "id": "_XUCOUog-Qc0",
        "outputId": "2e0e4cae-5837-456f-8c1e-459fde88bb47"
      },
      "execution_count": null,
      "outputs": [
        {
          "output_type": "execute_result",
          "data": {
            "text/plain": [
              "array([0.    , 0.    , 0.3125, 0.8125, 0.5625, 0.0625, 0.    , 0.    ,\n",
              "       0.    , 0.    , 0.8125, 0.9375, 0.625 , 0.9375, 0.3125, 0.    ,\n",
              "       0.    , 0.1875, 0.9375, 0.125 , 0.    , 0.6875, 0.5   , 0.    ,\n",
              "       0.    , 0.25  , 0.75  , 0.    , 0.    , 0.5   , 0.5   , 0.    ,\n",
              "       0.    , 0.3125, 0.5   , 0.    , 0.    , 0.5625, 0.5   , 0.    ,\n",
              "       0.    , 0.25  , 0.6875, 0.    , 0.0625, 0.75  , 0.4375, 0.    ,\n",
              "       0.    , 0.125 , 0.875 , 0.3125, 0.625 , 0.75  , 0.    , 0.    ,\n",
              "       0.    , 0.    , 0.375 , 0.8125, 0.625 , 0.    , 0.    , 0.    ])"
            ]
          },
          "metadata": {},
          "execution_count": 23
        }
      ]
    },
    {
      "cell_type": "markdown",
      "source": [
        "Training Test Split Data"
      ],
      "metadata": {
        "id": "iCWgAdzd-W0J"
      }
    },
    {
      "cell_type": "code",
      "source": [
        "from sklearn.model_selection import train_test_split"
      ],
      "metadata": {
        "id": "sjYtTeiv-gcb"
      },
      "execution_count": null,
      "outputs": []
    },
    {
      "cell_type": "code",
      "source": [
        "X_train,X_test,y_train,y_test = train_test_split(data,df.target,test_size=0.3)"
      ],
      "metadata": {
        "id": "ukGNT74_-sLi"
      },
      "execution_count": null,
      "outputs": []
    },
    {
      "cell_type": "code",
      "source": [
        "X_train.shape,X_test.shape,y_train.shape,y_test.shape"
      ],
      "metadata": {
        "colab": {
          "base_uri": "https://localhost:8080/"
        },
        "id": "ZnvktPXs-341",
        "outputId": "48192c05-0753-4d5c-dde4-6d8b12d26c57"
      },
      "execution_count": null,
      "outputs": [
        {
          "output_type": "execute_result",
          "data": {
            "text/plain": [
              "((1257, 64), (540, 64), (1257,), (540,))"
            ]
          },
          "metadata": {},
          "execution_count": 27
        }
      ]
    },
    {
      "cell_type": "markdown",
      "source": [
        "Random Forest Model"
      ],
      "metadata": {
        "id": "-8X92mB5_Jm2"
      }
    },
    {
      "cell_type": "code",
      "source": [
        "from sklearn.ensemble import RandomForestClassifier"
      ],
      "metadata": {
        "id": "4Xh_eC9Z_jvG"
      },
      "execution_count": null,
      "outputs": []
    },
    {
      "cell_type": "code",
      "source": [
        "rf = RandomForestClassifier()"
      ],
      "metadata": {
        "id": "Yv3c_SqI_1Dr"
      },
      "execution_count": null,
      "outputs": []
    },
    {
      "cell_type": "code",
      "source": [
        "rf.fit(X_train,y_train)"
      ],
      "metadata": {
        "colab": {
          "base_uri": "https://localhost:8080/",
          "height": 52
        },
        "id": "mBTnMsjX_6--",
        "outputId": "f714bb92-81e9-4a1f-9031-df6fcf65f120"
      },
      "execution_count": null,
      "outputs": [
        {
          "output_type": "execute_result",
          "data": {
            "text/plain": [
              "RandomForestClassifier()"
            ],
            "text/html": [
              "<style>#sk-container-id-1 {color: black;}#sk-container-id-1 pre{padding: 0;}#sk-container-id-1 div.sk-toggleable {background-color: white;}#sk-container-id-1 label.sk-toggleable__label {cursor: pointer;display: block;width: 100%;margin-bottom: 0;padding: 0.3em;box-sizing: border-box;text-align: center;}#sk-container-id-1 label.sk-toggleable__label-arrow:before {content: \"▸\";float: left;margin-right: 0.25em;color: #696969;}#sk-container-id-1 label.sk-toggleable__label-arrow:hover:before {color: black;}#sk-container-id-1 div.sk-estimator:hover label.sk-toggleable__label-arrow:before {color: black;}#sk-container-id-1 div.sk-toggleable__content {max-height: 0;max-width: 0;overflow: hidden;text-align: left;background-color: #f0f8ff;}#sk-container-id-1 div.sk-toggleable__content pre {margin: 0.2em;color: black;border-radius: 0.25em;background-color: #f0f8ff;}#sk-container-id-1 input.sk-toggleable__control:checked~div.sk-toggleable__content {max-height: 200px;max-width: 100%;overflow: auto;}#sk-container-id-1 input.sk-toggleable__control:checked~label.sk-toggleable__label-arrow:before {content: \"▾\";}#sk-container-id-1 div.sk-estimator input.sk-toggleable__control:checked~label.sk-toggleable__label {background-color: #d4ebff;}#sk-container-id-1 div.sk-label input.sk-toggleable__control:checked~label.sk-toggleable__label {background-color: #d4ebff;}#sk-container-id-1 input.sk-hidden--visually {border: 0;clip: rect(1px 1px 1px 1px);clip: rect(1px, 1px, 1px, 1px);height: 1px;margin: -1px;overflow: hidden;padding: 0;position: absolute;width: 1px;}#sk-container-id-1 div.sk-estimator {font-family: monospace;background-color: #f0f8ff;border: 1px dotted black;border-radius: 0.25em;box-sizing: border-box;margin-bottom: 0.5em;}#sk-container-id-1 div.sk-estimator:hover {background-color: #d4ebff;}#sk-container-id-1 div.sk-parallel-item::after {content: \"\";width: 100%;border-bottom: 1px solid gray;flex-grow: 1;}#sk-container-id-1 div.sk-label:hover label.sk-toggleable__label {background-color: #d4ebff;}#sk-container-id-1 div.sk-serial::before {content: \"\";position: absolute;border-left: 1px solid gray;box-sizing: border-box;top: 0;bottom: 0;left: 50%;z-index: 0;}#sk-container-id-1 div.sk-serial {display: flex;flex-direction: column;align-items: center;background-color: white;padding-right: 0.2em;padding-left: 0.2em;position: relative;}#sk-container-id-1 div.sk-item {position: relative;z-index: 1;}#sk-container-id-1 div.sk-parallel {display: flex;align-items: stretch;justify-content: center;background-color: white;position: relative;}#sk-container-id-1 div.sk-item::before, #sk-container-id-1 div.sk-parallel-item::before {content: \"\";position: absolute;border-left: 1px solid gray;box-sizing: border-box;top: 0;bottom: 0;left: 50%;z-index: -1;}#sk-container-id-1 div.sk-parallel-item {display: flex;flex-direction: column;z-index: 1;position: relative;background-color: white;}#sk-container-id-1 div.sk-parallel-item:first-child::after {align-self: flex-end;width: 50%;}#sk-container-id-1 div.sk-parallel-item:last-child::after {align-self: flex-start;width: 50%;}#sk-container-id-1 div.sk-parallel-item:only-child::after {width: 0;}#sk-container-id-1 div.sk-dashed-wrapped {border: 1px dashed gray;margin: 0 0.4em 0.5em 0.4em;box-sizing: border-box;padding-bottom: 0.4em;background-color: white;}#sk-container-id-1 div.sk-label label {font-family: monospace;font-weight: bold;display: inline-block;line-height: 1.2em;}#sk-container-id-1 div.sk-label-container {text-align: center;}#sk-container-id-1 div.sk-container {/* jupyter's `normalize.less` sets `[hidden] { display: none; }` but bootstrap.min.css set `[hidden] { display: none !important; }` so we also need the `!important` here to be able to override the default hidden behavior on the sphinx rendered scikit-learn.org. See: https://github.com/scikit-learn/scikit-learn/issues/21755 */display: inline-block !important;position: relative;}#sk-container-id-1 div.sk-text-repr-fallback {display: none;}</style><div id=\"sk-container-id-1\" class=\"sk-top-container\"><div class=\"sk-text-repr-fallback\"><pre>RandomForestClassifier()</pre><b>In a Jupyter environment, please rerun this cell to show the HTML representation or trust the notebook. <br />On GitHub, the HTML representation is unable to render, please try loading this page with nbviewer.org.</b></div><div class=\"sk-container\" hidden><div class=\"sk-item\"><div class=\"sk-estimator sk-toggleable\"><input class=\"sk-toggleable__control sk-hidden--visually\" id=\"sk-estimator-id-1\" type=\"checkbox\" checked><label for=\"sk-estimator-id-1\" class=\"sk-toggleable__label sk-toggleable__label-arrow\">RandomForestClassifier</label><div class=\"sk-toggleable__content\"><pre>RandomForestClassifier()</pre></div></div></div></div></div>"
            ]
          },
          "metadata": {},
          "execution_count": 31
        }
      ]
    },
    {
      "cell_type": "markdown",
      "source": [
        "Predict Test Data"
      ],
      "metadata": {
        "id": "HeN0CbbdADDX"
      }
    },
    {
      "cell_type": "code",
      "source": [
        "y_pred = rf.predict(X_test)"
      ],
      "metadata": {
        "id": "sHGXI_L1AI9s"
      },
      "execution_count": null,
      "outputs": []
    },
    {
      "cell_type": "code",
      "source": [
        "y_pred"
      ],
      "metadata": {
        "colab": {
          "base_uri": "https://localhost:8080/"
        },
        "id": "fTMOSjXpAOa3",
        "outputId": "5f9eeb98-6da9-47cd-9121-2defe9433179"
      },
      "execution_count": null,
      "outputs": [
        {
          "output_type": "execute_result",
          "data": {
            "text/plain": [
              "array([6, 4, 0, 2, 5, 8, 3, 0, 3, 1, 0, 5, 0, 4, 2, 6, 1, 7, 8, 7, 5, 0,\n",
              "       0, 0, 2, 6, 9, 4, 6, 4, 8, 8, 1, 5, 8, 9, 4, 7, 7, 1, 9, 7, 1, 0,\n",
              "       5, 5, 3, 0, 1, 1, 1, 1, 0, 2, 0, 2, 4, 8, 7, 6, 5, 1, 7, 5, 1, 3,\n",
              "       0, 4, 3, 6, 5, 2, 6, 1, 2, 5, 0, 4, 2, 6, 9, 4, 6, 3, 5, 6, 7, 7,\n",
              "       4, 7, 9, 8, 5, 5, 5, 4, 8, 9, 9, 7, 9, 3, 8, 6, 8, 3, 5, 5, 5, 5,\n",
              "       8, 1, 8, 3, 7, 8, 9, 5, 2, 0, 8, 0, 0, 5, 3, 9, 7, 8, 3, 4, 2, 0,\n",
              "       7, 9, 6, 2, 0, 7, 2, 8, 1, 1, 3, 8, 7, 8, 8, 3, 0, 2, 9, 8, 5, 7,\n",
              "       0, 0, 2, 4, 1, 0, 5, 6, 5, 6, 2, 4, 7, 8, 2, 3, 4, 1, 9, 8, 1, 2,\n",
              "       2, 9, 2, 3, 7, 3, 6, 6, 3, 5, 3, 9, 5, 9, 1, 5, 9, 1, 3, 1, 2, 4,\n",
              "       7, 7, 8, 7, 6, 0, 8, 1, 8, 6, 3, 3, 4, 4, 0, 0, 2, 5, 2, 2, 5, 0,\n",
              "       2, 5, 2, 3, 0, 4, 7, 9, 5, 0, 5, 0, 7, 5, 4, 7, 2, 4, 5, 6, 6, 7,\n",
              "       1, 7, 1, 6, 3, 2, 2, 4, 1, 9, 4, 3, 7, 1, 9, 8, 8, 0, 9, 8, 2, 4,\n",
              "       2, 5, 9, 6, 5, 9, 7, 2, 8, 5, 3, 6, 2, 9, 3, 4, 5, 8, 6, 3, 8, 7,\n",
              "       9, 4, 4, 8, 9, 5, 3, 1, 1, 7, 5, 3, 4, 0, 3, 7, 2, 1, 1, 7, 0, 3,\n",
              "       1, 3, 6, 3, 2, 1, 7, 8, 1, 6, 8, 6, 4, 3, 5, 4, 2, 0, 4, 3, 4, 4,\n",
              "       3, 6, 0, 0, 5, 9, 5, 2, 6, 2, 6, 5, 1, 0, 5, 1, 7, 4, 2, 3, 9, 2,\n",
              "       8, 9, 8, 9, 0, 3, 4, 0, 3, 0, 0, 0, 5, 3, 0, 7, 2, 2, 3, 3, 9, 2,\n",
              "       8, 1, 3, 3, 8, 0, 1, 3, 9, 4, 9, 8, 6, 6, 6, 7, 9, 6, 1, 0, 1, 0,\n",
              "       1, 1, 2, 9, 5, 3, 7, 1, 5, 1, 3, 4, 0, 1, 9, 9, 1, 9, 8, 0, 8, 0,\n",
              "       6, 5, 2, 5, 6, 4, 3, 3, 8, 0, 0, 7, 0, 7, 6, 6, 7, 2, 1, 2, 8, 8,\n",
              "       6, 1, 4, 8, 5, 4, 5, 4, 5, 2, 9, 2, 9, 8, 4, 0, 7, 4, 1, 0, 2, 2,\n",
              "       1, 7, 8, 2, 0, 9, 9, 6, 5, 8, 3, 7, 7, 0, 7, 1, 1, 3, 9, 4, 0, 9,\n",
              "       4, 0, 8, 6, 8, 1, 3, 4, 7, 4, 7, 0, 4, 0, 4, 3, 1, 1, 9, 1, 4, 2,\n",
              "       7, 9, 1, 4, 7, 7, 3, 3, 6, 3, 2, 1, 4, 4, 9, 4, 6, 0, 8, 9, 8, 5,\n",
              "       1, 8, 5, 1, 4, 4, 2, 2, 3, 7, 4, 0])"
            ]
          },
          "metadata": {},
          "execution_count": 33
        }
      ]
    },
    {
      "cell_type": "markdown",
      "source": [
        "Model Accuracy"
      ],
      "metadata": {
        "id": "jvju6_XMAWue"
      }
    },
    {
      "cell_type": "code",
      "source": [
        "from sklearn.metrics import confusion_matrix,classification_report"
      ],
      "metadata": {
        "id": "PusIodBoAapS"
      },
      "execution_count": null,
      "outputs": []
    },
    {
      "cell_type": "code",
      "source": [
        "confusion_matrix(y_test,y_pred)"
      ],
      "metadata": {
        "colab": {
          "base_uri": "https://localhost:8080/"
        },
        "id": "EJJ_63bEAp4x",
        "outputId": "8aeddcf8-38fe-4153-b4ed-79c7b8e3d975"
      },
      "execution_count": null,
      "outputs": [
        {
          "output_type": "execute_result",
          "data": {
            "text/plain": [
              "array([[61,  0,  0,  0,  1,  0,  0,  0,  0,  0],\n",
              "       [ 0, 59,  0,  0,  0,  0,  0,  0,  0,  0],\n",
              "       [ 0,  0, 54,  0,  0,  0,  0,  0,  0,  0],\n",
              "       [ 0,  0,  0, 57,  0,  0,  0,  1,  1,  0],\n",
              "       [ 0,  0,  0,  0, 56,  0,  0,  1,  0,  0],\n",
              "       [ 0,  0,  0,  0,  0, 54,  1,  0,  0,  0],\n",
              "       [ 0,  0,  0,  0,  0,  0, 42,  0,  0,  0],\n",
              "       [ 0,  0,  0,  0,  0,  0,  0, 50,  0,  1],\n",
              "       [ 0,  0,  1,  0,  0,  0,  0,  0, 52,  0],\n",
              "       [ 0,  0,  0,  0,  0,  1,  0,  0,  0, 47]])"
            ]
          },
          "metadata": {},
          "execution_count": 35
        }
      ]
    },
    {
      "cell_type": "code",
      "source": [
        "print(classification_report(y_test,y_pred))"
      ],
      "metadata": {
        "colab": {
          "base_uri": "https://localhost:8080/"
        },
        "id": "49SxiSvqAvu1",
        "outputId": "5e230254-5b05-41d1-bfcc-3213df3e92f1"
      },
      "execution_count": null,
      "outputs": [
        {
          "output_type": "stream",
          "name": "stdout",
          "text": [
            "              precision    recall  f1-score   support\n",
            "\n",
            "           0       1.00      0.98      0.99        62\n",
            "           1       1.00      1.00      1.00        59\n",
            "           2       0.98      1.00      0.99        54\n",
            "           3       1.00      0.97      0.98        59\n",
            "           4       0.98      0.98      0.98        57\n",
            "           5       0.98      0.98      0.98        55\n",
            "           6       0.98      1.00      0.99        42\n",
            "           7       0.96      0.98      0.97        51\n",
            "           8       0.98      0.98      0.98        53\n",
            "           9       0.98      0.98      0.98        48\n",
            "\n",
            "    accuracy                           0.99       540\n",
            "   macro avg       0.98      0.99      0.98       540\n",
            "weighted avg       0.99      0.99      0.99       540\n",
            "\n"
          ]
        }
      ]
    }
  ]
}